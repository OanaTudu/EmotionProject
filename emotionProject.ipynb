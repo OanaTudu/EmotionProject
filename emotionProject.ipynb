{
 "cells": [
  {
   "cell_type": "markdown",
   "metadata": {},
   "source": [
    "## Emotion Recognition Project\n",
    "\n",
    "2019 - OT.\n",
    "\n",
    "Given the Karolinska faces collection, train a classifier to predict emotion.\n",
    "Details about the data (KDEF):\n",
    "70 subjects (35 male, 35 female), all white, between 20 and 30 years of age, photographed with 7 emotion expressions:\n",
    "neutral, happy, angry, afraid, disgusted, sad, surprised\n",
    "\n",
    "Files stored in KDEF folder. Image naming code:\n",
    "Codes:\n",
    "\tExample: AF01ANFL.JPG\n",
    "\t\tLetter 1: Session \n",
    "\t\t\t\t\tA = series one\n",
    "\t\t\t\t\tB = series two\n",
    "\t\tLetter 2: Gender \n",
    "\t\t\t\t\tF = female\n",
    "\t\t\t\t\tM = male\n",
    "\t\tLetter 3 & 4: Identity number\n",
    "\t\t\t\t\t01 - 35\n",
    "\t\tLetter 5 & 6: Expression\n",
    "\t\t\t\t\tAF = afraid\n",
    "\t\t\t\t\tAN = angry\n",
    "\t\t\t\t\tDI = disgusted\n",
    "\t\t\t\t\tHA = happy\n",
    "\t\t\t\t\tNE = neutral\n",
    "\t\t\t\t\tSA = sad\n",
    "\t\t\t\t\tSU = surprised\n",
    "\t\tLetter 7 & 8: Angle\n",
    "\t\t\t\t\tFL = full left profile\n",
    "\t\t\t\t\tHL = half left profile\n",
    "\t\t\t\t\tS = straight\n",
    "\t\t\t\t\tHR = half right profile\n",
    "\t\t\t\t\tFR = full right profile\n"
   ]
  },
  {
   "cell_type": "code",
<<<<<<< HEAD
   "execution_count": 3,
=======
   "execution_count": 8,
>>>>>>> 84829dbd184837bfb0868fb112fea764b90ee4d8
   "metadata": {},
   "outputs": [],
   "source": [
    "import tensorflow as tf\n",
    "import pandas as pd\n",
    "import numpy as np\n",
<<<<<<< HEAD
    "import matplotlib.pyplot as plt\n",
    "from keras.preprocessing.image import load_img, img_to_array, array_to_img"
   ]
  },
  {
   "cell_type": "code",
   "execution_count": 4,
   "metadata": {},
   "outputs": [
    {
     "name": "stdout",
     "output_type": "stream",
     "text": [
      "<class 'PIL.JpegImagePlugin.JpegImageFile'>\n",
      "JPEG\n",
      "RGB\n",
      "(562, 762)\n"
     ]
    }
   ],
   "source": [
    "# load the image\n",
    "img = load_img('AF01HAS.jpg')\n",
    "# report details about the image\n",
    "print(type(img))\n",
    "print(img.format)\n",
    "print(img.mode)\n",
    "print(img.size)\n",
    "# show the image\n",
    "img.show()"
   ]
  },
  {
   "cell_type": "code",
   "execution_count": 5,
   "metadata": {},
   "outputs": [
    {
     "name": "stdout",
     "output_type": "stream",
     "text": [
      "float32\n",
      "(762, 562, 3)\n"
     ]
    }
   ],
   "source": [
    "# convert to numpy array\n",
    "img_array = img_to_array(img)\n",
    "print(img_array.dtype)\n",
    "print(img_array.shape)\n"
=======
    "import matplotlib.pyplot as plt\n"
>>>>>>> 84829dbd184837bfb0868fb112fea764b90ee4d8
   ]
  },
  {
   "cell_type": "code",
   "execution_count": 9,
   "metadata": {},
   "outputs": [],
   "source": [
    "#define a sequential API model in keras\n",
    "model = tf.keras.Sequential()"
   ]
  },
  {
   "cell_type": "code",
   "execution_count": 16,
   "metadata": {},
   "outputs": [],
   "source": [
    "#define first hidden layer\n",
    "model.add(tf.keras.layers.Dense(32, activation='relu', input_shape = (562*762, )))"
   ]
  },
  {
   "cell_type": "code",
   "execution_count": 17,
   "metadata": {},
   "outputs": [],
   "source": [
    "#define second hidden layer\n",
    "model.add(tf.keras.layers.Dense(16,activation='relu'))"
   ]
  },
  {
   "cell_type": "code",
   "execution_count": 18,
   "metadata": {},
   "outputs": [],
   "source": [
    "#define output layer\n",
    "model.add(tf.keras.layers.Dense(7, activation='softmax'))"
   ]
  },
  {
   "cell_type": "code",
   "execution_count": 19,
   "metadata": {},
   "outputs": [],
   "source": [
    "#Compile the model\n",
    "model.compile('adam', loss='categorical_crossentropy')"
   ]
  },
  {
   "cell_type": "code",
   "execution_count": null,
   "metadata": {},
   "outputs": [],
   "source": []
  }
 ],
 "metadata": {
  "kernelspec": {
   "display_name": "Python 3",
   "language": "python",
   "name": "python3"
  },
  "language_info": {
   "codemirror_mode": {
    "name": "ipython",
    "version": 3
   },
   "file_extension": ".py",
   "mimetype": "text/x-python",
   "name": "python",
   "nbconvert_exporter": "python",
   "pygments_lexer": "ipython3",
   "version": "3.7.2"
  }
 },
 "nbformat": 4,
 "nbformat_minor": 2
}
