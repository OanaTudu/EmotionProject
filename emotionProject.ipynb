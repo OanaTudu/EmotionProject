{
 "cells": [
  {
   "cell_type": "markdown",
   "metadata": {},
   "source": [
    "## Emotion Recognition Project\n",
    "\n",
    "2019 - OT.\n",
    "\n",
    "Given the Karolinska faces collection, train a classifier to predict emotion.\n",
    "Details about the data (KDEF):\n",
    "70 subjects (35 male, 35 female), all white, between 20 and 30 years of age, photographed with 7 emotion expressions:\n",
    "neutral, happy, angry, afraid, disgusted, sad, surprised\n",
    "\n",
    "Files stored in KDEF folder. Image naming code:\n",
    "Codes:\n",
    "\tExample: AF01ANFL.JPG\n",
    "\t\tLetter 1: Session \n",
    "\t\t\t\t\tA = series one\n",
    "\t\t\t\t\tB = series two\n",
    "\t\tLetter 2: Gender \n",
    "\t\t\t\t\tF = female\n",
    "\t\t\t\t\tM = male\n",
    "\t\tLetter 3 & 4: Identity number\n",
    "\t\t\t\t\t01 - 35\n",
    "\t\tLetter 5 & 6: Expression\n",
    "\t\t\t\t\tAF = afraid\n",
    "\t\t\t\t\tAN = angry\n",
    "\t\t\t\t\tDI = disgusted\n",
    "\t\t\t\t\tHA = happy\n",
    "\t\t\t\t\tNE = neutral\n",
    "\t\t\t\t\tSA = sad\n",
    "\t\t\t\t\tSU = surprised\n",
    "\t\tLetter 7 & 8: Angle\n",
    "\t\t\t\t\tFL = full left profile\n",
    "\t\t\t\t\tHL = half left profile\n",
    "\t\t\t\t\tS = straight\n",
    "\t\t\t\t\tHR = half right profile\n",
    "\t\t\t\t\tFR = full right profile\n"
   ]
  },
  {
   "cell_type": "code",
   "execution_count": 1,
   "metadata": {},
   "outputs": [],
   "source": [
    "\n",
    "import tensorflow as tf\n",
    "import pandas as pd\n",
    "import numpy as np\n",
    "import matplotlib.pyplot as plt\n",
    "import os\n",
    "\n",
    "os.environ['KMP_DUPLICATE_LIB_OK']='True'"
   ]
  },
  {
   "cell_type": "markdown",
   "metadata": {},
   "source": [
    "Import the libraries needed for a CNN model "
   ]
  },
  {
   "cell_type": "code",
   "execution_count": 2,
   "metadata": {},
   "outputs": [
    {
     "name": "stderr",
     "output_type": "stream",
     "text": [
      "Using TensorFlow backend.\n"
     ]
    }
   ],
   "source": [
    "from keras.preprocessing.image import ImageDataGenerator \n",
    "from keras.preprocessing.image import save_img\n",
    "from keras.preprocessing.image import img_to_array\n",
    "from keras.models import Sequential \n",
    "from keras.layers import Conv2D, MaxPooling2D \n",
    "from keras.layers import Activation, Dropout, Flatten, Dense \n",
    "from keras import backend as K \n",
    "from keras.preprocessing.image import load_img"
   ]
  },
  {
   "cell_type": "markdown",
   "metadata": {},
   "source": [
    "Take the data from KDEF and copy samples in a data tree structured into a train set (with 290 images per emotion, focusing right now only on fearful and happy), and a validation set with 60 images per emotion. "
   ]
  },
  {
   "cell_type": "code",
   "execution_count": 3,
   "metadata": {},
   "outputs": [
    {
     "name": "stdout",
     "output_type": "stream",
     "text": [
      "350\n"
     ]
    }
   ],
   "source": [
    "import os\n",
    "import fnmatch\n",
    "import shutil\n",
    "\n",
    "#Initialize the number of images in class:\n",
    "k = 0\n",
    "afraid = r\"[A-Z][A-Z][0-9][0-9]AF*.JPG\"\n",
    "happy = r\"[A-Z][A-Z][0-9][0-9]HA*.JPG\"\n",
    "basedir = 'data/train/happy/'\n",
    "# List all files in the female directories with angry expressions using scandir()\n",
    "for i in range(1,36):\n",
    "    if i < 10:\n",
    "        n = '0' + str(i)\n",
    "    else:\n",
    "        n = str(i)   \n",
    "    basepath = 'KDEF/KDEF_and_AKDEF/KDEF/AF' + n + '/'\n",
    "    with os.scandir(basepath) as entries:\n",
    "        for entry in entries:\n",
    "            if entry.is_file():\n",
    "                if fnmatch.fnmatch(entry.name, happy):\n",
    "                    #print(entry.name)\n",
    "                    old_name = os.path.join(basepath, entry.name)\n",
    "                    #print(old_name)\n",
    "                     # Initial new name\n",
    "                    new_name = os.path.join(basedir,entry.name)\n",
    "                    #print(new_name)\n",
    "                    shutil.copy(old_name, new_name)\n",
    "                    \n",
    "                    k += 1\n",
    "                    \n",
    "# List all files in the male directories with angry expressions using scandir()                    \n",
    "for i in range(1,36):\n",
    "    if i < 10:\n",
    "        n = '0' + str(i)\n",
    "    else:\n",
    "        n = str(i)   \n",
    "    basepath = 'KDEF/KDEF_and_AKDEF/KDEF/AM' + n + '/'\n",
    "    with os.scandir(basepath) as entries:\n",
    "        for entry in entries:\n",
    "            if entry.is_file():\n",
    "                if fnmatch.fnmatch(entry.name, happy):\n",
    "                    #print(entry.name)\n",
    "                    old_name = os.path.join(basepath, entry.name)\n",
    "                    #print(old_name)\n",
    "                     # Initial new name\n",
    "                    new_name = os.path.join(basedir,entry.name)\n",
    "                    #print(new_name)\n",
    "                    shutil.copy(old_name, new_name)\n",
    "                    k += 1\n",
    "print(k)"
   ]
  },
  {
   "cell_type": "markdown",
   "metadata": {},
   "source": [
    "Image size and input shape:\n"
   ]
  },
  {
   "cell_type": "code",
   "execution_count": 3,
   "metadata": {},
   "outputs": [],
   "source": [
    "img_width = 562\n",
    "img_height = 762"
   ]
  },
  {
   "cell_type": "code",
   "execution_count": 4,
   "metadata": {},
   "outputs": [],
   "source": [
    "if K.image_data_format() == 'channels_first': \n",
    "    input_shape = (3, img_width, img_height) \n",
    "else: \n",
    "    input_shape = (img_width, img_height, 3) "
   ]
  },
  {
   "cell_type": "markdown",
   "metadata": {},
   "source": [
    "Assign the train data directory, validation directory, and epochs and batch size for the CNN.\n",
    "There are 290 images per emotion in the train set, 580 in total, and 60 images per emotion in the validation set, for a total of 120 images. \n"
   ]
  },
  {
   "cell_type": "code",
   "execution_count": 5,
   "metadata": {},
   "outputs": [],
   "source": [
    "train_data_dir = 'data/train'\n",
    "validation_data_dir = 'data/validation'\n",
    "nb_train_samples =580 \n",
    "nb_validation_samples = 120\n",
    "epochs = 10\n",
    "batch_size = 16\n"
   ]
  },
  {
   "cell_type": "code",
   "execution_count": 6,
   "metadata": {},
   "outputs": [
    {
     "name": "stdout",
     "output_type": "stream",
     "text": [
      "WARNING:tensorflow:From /Users/oana/anaconda3/envs/insight/lib/python3.7/site-packages/tensorflow/python/framework/op_def_library.py:263: colocate_with (from tensorflow.python.framework.ops) is deprecated and will be removed in a future version.\n",
      "Instructions for updating:\n",
      "Colocations handled automatically by placer.\n",
      "WARNING:tensorflow:From /Users/oana/anaconda3/envs/insight/lib/python3.7/site-packages/keras/backend/tensorflow_backend.py:3445: calling dropout (from tensorflow.python.ops.nn_ops) with keep_prob is deprecated and will be removed in a future version.\n",
      "Instructions for updating:\n",
      "Please use `rate` instead of `keep_prob`. Rate should be set to `rate = 1 - keep_prob`.\n"
     ]
    }
   ],
   "source": [
    "model = Sequential() \n",
    "model.add(Conv2D(32, (2, 2), input_shape = input_shape)) \n",
    "model.add(Activation('relu')) \n",
    "model.add(MaxPooling2D(pool_size =(2, 2))) \n",
    "  \n",
    "model.add(Conv2D(32, (2, 2))) \n",
    "model.add(Activation('relu')) \n",
    "model.add(MaxPooling2D(pool_size =(2, 2))) \n",
    "  \n",
    "model.add(Conv2D(64, (2, 2))) \n",
    "model.add(Activation('relu')) \n",
    "model.add(MaxPooling2D(pool_size =(2, 2))) \n",
    "  \n",
    "model.add(Flatten()) \n",
    "model.add(Dense(64)) \n",
    "model.add(Activation('relu')) \n",
    "model.add(Dropout(0.5)) \n",
    "model.add(Dense(1)) \n",
    "model.add(Activation('sigmoid')) \n",
    "  \n",
    "model.compile(loss ='binary_crossentropy', \n",
    "                     optimizer ='rmsprop', \n",
    "                   metrics =['accuracy']) "
   ]
  },
  {
   "cell_type": "code",
   "execution_count": 7,
   "metadata": {},
   "outputs": [],
   "source": [
    "train_datagen = ImageDataGenerator( \n",
    "    rescale=1. / 255, \n",
    "    shear_range=0.2, \n",
    "    zoom_range=0.2, \n",
    "    horizontal_flip=True) \n",
    "  \n",
    "test_datagen = ImageDataGenerator(rescale=1. / 255) "
   ]
  },
  {
   "cell_type": "code",
   "execution_count": 8,
   "metadata": {},
   "outputs": [
    {
     "name": "stdout",
     "output_type": "stream",
     "text": [
      "Found 640 images belonging to 2 classes.\n",
      "Found 120 images belonging to 2 classes.\n"
     ]
    }
   ],
   "source": [
    "train_generator = train_datagen.flow_from_directory( \n",
    "    train_data_dir, \n",
    "    target_size=(img_width, img_height), \n",
    "    batch_size=batch_size, \n",
    "    class_mode='binary') \n",
    "  \n",
    "validation_generator = test_datagen.flow_from_directory( \n",
    "    validation_data_dir, \n",
    "    target_size=(img_width, img_height), \n",
    "    batch_size=batch_size, \n",
    "    class_mode='binary') "
   ]
  },
  {
   "cell_type": "code",
   "execution_count": 9,
   "metadata": {},
   "outputs": [
    {
     "name": "stdout",
     "output_type": "stream",
     "text": [
      "WARNING:tensorflow:From /Users/oana/anaconda3/envs/insight/lib/python3.7/site-packages/tensorflow/python/ops/math_ops.py:3066: to_int32 (from tensorflow.python.ops.math_ops) is deprecated and will be removed in a future version.\n",
      "Instructions for updating:\n",
      "Use tf.cast instead.\n",
      "Epoch 1/10\n",
      "36/36 [==============================] - 89s 2s/step - loss: 1.0198 - acc: 0.5469 - val_loss: 0.6881 - val_acc: 0.5714\n",
      "Epoch 2/10\n",
      "36/36 [==============================] - 83s 2s/step - loss: 0.6993 - acc: 0.5295 - val_loss: 0.6935 - val_acc: 0.4712\n",
      "Epoch 3/10\n",
      "36/36 [==============================] - 83s 2s/step - loss: 0.7239 - acc: 0.5486 - val_loss: 0.6822 - val_acc: 0.7115\n",
      "Epoch 4/10\n",
      "36/36 [==============================] - 83s 2s/step - loss: 0.7106 - acc: 0.5191 - val_loss: 0.7370 - val_acc: 0.4615\n",
      "Epoch 5/10\n",
      "36/36 [==============================] - 83s 2s/step - loss: 0.7074 - acc: 0.5608 - val_loss: 0.6141 - val_acc: 0.6442\n",
      "Epoch 6/10\n",
      "36/36 [==============================] - 85s 2s/step - loss: 0.6536 - acc: 0.6233 - val_loss: 0.6267 - val_acc: 0.6731\n",
      "Epoch 7/10\n",
      "36/36 [==============================] - 97s 3s/step - loss: 0.6478 - acc: 0.6424 - val_loss: 0.4813 - val_acc: 0.8077\n",
      "Epoch 8/10\n",
      "36/36 [==============================] - 87s 2s/step - loss: 0.6305 - acc: 0.6632 - val_loss: 0.5911 - val_acc: 0.6538\n",
      "Epoch 9/10\n",
      "36/36 [==============================] - 83s 2s/step - loss: 0.6368 - acc: 0.6632 - val_loss: 0.4669 - val_acc: 0.7679\n",
      "Epoch 10/10\n",
      "36/36 [==============================] - 82s 2s/step - loss: 0.5580 - acc: 0.7170 - val_loss: 0.4309 - val_acc: 0.8077\n"
     ]
    },
    {
     "data": {
      "text/plain": [
       "<keras.callbacks.History at 0xb35ee3f98>"
      ]
     },
     "execution_count": 9,
     "metadata": {},
     "output_type": "execute_result"
    }
   ],
   "source": [
    "model.fit_generator( \n",
    "    train_generator, \n",
    "    steps_per_epoch=nb_train_samples // batch_size, \n",
    "    epochs=epochs, \n",
    "    validation_data=validation_generator, \n",
    "    validation_steps=nb_validation_samples // batch_size) "
   ]
  },
  {
   "cell_type": "code",
   "execution_count": null,
   "metadata": {},
   "outputs": [],
   "source": []
  },
  {
   "cell_type": "code",
   "execution_count": null,
   "metadata": {},
   "outputs": [],
   "source": []
  }
 ],
 "metadata": {
  "kernelspec": {
   "display_name": "Python 3",
   "language": "python",
   "name": "python3"
  },
  "language_info": {
   "codemirror_mode": {
    "name": "ipython",
    "version": 3
   },
   "file_extension": ".py",
   "mimetype": "text/x-python",
   "name": "python",
   "nbconvert_exporter": "python",
   "pygments_lexer": "ipython3",
   "version": "3.7.2"
  }
 },
 "nbformat": 4,
 "nbformat_minor": 2
}
